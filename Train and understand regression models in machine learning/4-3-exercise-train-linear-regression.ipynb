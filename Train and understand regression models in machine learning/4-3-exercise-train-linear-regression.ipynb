{
  "cells": [
    {
      "cell_type": "markdown",
      "source": [
        "# Exercise: Train a simple linear regression model\n",
        "\n",
        "In this exercise, we'll train a simple linear regression model to predict body temperature based on dog's ages, and interpret the result.\n",
        "\n",
        "## Loading data\n",
        "Let's begin by having a look at our data."
      ],
      "metadata": {},
      "id": "2b794793"
    },
    {
      "cell_type": "code",
      "source": [
        "import pandas\n",
        "!pip install statsmodels\n",
        "!wget https://raw.githubusercontent.com/MicrosoftDocs/mslearn-introduction-to-machine-learning/main/graphing.py\n",
        "!wget https://raw.githubusercontent.com/MicrosoftDocs/mslearn-introduction-to-machine-learning/main/Data/doggy-illness.csv\n",
        "\n",
        "# Convert it into a table using pandas\n",
        "dataset = pandas.read_csv(\"doggy-illness.csv\", delimiter=\"\\t\")\n",
        "\n",
        "# Print the data\n",
        "print(dataset)"
      ],
      "outputs": [],
      "execution_count": null,
      "metadata": {},
      "id": "81e35372"
    },
    {
      "cell_type": "markdown",
      "source": [
        "We have a variety of information, including what the dogs did the night before, their age, whether they're overweight, and their clinical signs. \n",
        "In this exercise, our y values, or labels, are represented by the `core_temperature` column, while our feature will be the `age`, in years.\n",
        "\n",
        "## Data visualization\n",
        "Let's have a look at how the features and labels are distributed."
      ],
      "metadata": {},
      "id": "2bc850b5"
    },
    {
      "cell_type": "code",
      "source": [
        "import graphing\n",
        "\n",
        "graphing.histogram(dataset, label_x='age', nbins=10, title=\"Feature\", show=True)\n",
        "graphing.histogram(dataset, label_x='core_temperature', nbins=10, title=\"Label\")\n"
      ],
      "outputs": [],
      "execution_count": null,
      "metadata": {},
      "id": "ba77cb78"
    },
    {
      "cell_type": "markdown",
      "source": [
        "Looking at our feature (`age`), we can see dogs were at or under 9 years of age, and ages are evenly distributed. In other words, no particular age is substantially more common than any other.\n",
        "\n",
        "Looking at our label (`core_temperature`), most dogs seem to have a slightly elevated core temperature (we would normally expect ~37.5 degrees celcius), which indicates they're unwell. A small number of dogs have a temperatue above 40 degrees, which indicates they're quite unwell. \n",
        "\n",
        "Simply because the shape of these distributions is different, we can guess that the feature will not be able to predict the label extremely well. For example, if old age perfectly predicted who would have a high temperature, then the number of old dogs would exactly match the number of dogs with a high temperature.\n",
        "\n",
        "The model might still end up being useful though, so lets continue. \n",
        "\n",
        "The next step is to eyeball the relationship. Lets plot relation between the labels and features.\n",
        "\n"
      ],
      "metadata": {},
      "id": "e70e197d"
    },
    {
      "cell_type": "markdown",
      "source": [],
      "metadata": {},
      "id": "8b611423"
    },
    {
      "cell_type": "code",
      "source": [
        "graphing.scatter_2D(dataset, label_x=\"age\", label_y=\"core_temperature\", title='core temperature as a function of age')"
      ],
      "outputs": [],
      "execution_count": null,
      "metadata": {},
      "id": "0dc1cb35"
    },
    {
      "cell_type": "markdown",
      "source": [
        "It does seem that older dogs tended to have higher temperatures than younger dogs. The relationship is quite 'noisy', though: many dogs of the same age have quite different temperatures.\n",
        "\n",
        "## Simple linear regression\n",
        "Let's formally examine the relationship between our labels and features by fitting a line (simple linear regression model) to the dataset."
      ],
      "metadata": {},
      "id": "87640a4f"
    },
    {
      "cell_type": "code",
      "source": [
        "import statsmodels.formula.api as smf\n",
        "import graphing # custom graphing code. See our GitHub repo for details\n",
        "\n",
        "# First, we define our formula using a special syntax\n",
        "# This says that core temperature is explained by age\n",
        "formula = \"core_temperature ~ age\"\n",
        "\n",
        "# Perform linear regression. This method takes care of\n",
        "# the entire fitting procedure for us.\n",
        "model = smf.ols(formula = formula, data = dataset).fit()\n",
        "\n",
        "# Show a graph of the result\n",
        "graphing.scatter_2D(dataset,    label_x=\"age\", \n",
        "                                label_y=\"core_temperature\",\n",
        "                                trendline=lambda x: model.params[1] * x + model.params[0]\n",
        "                                )"
      ],
      "outputs": [],
      "execution_count": null,
      "metadata": {},
      "id": "30f5b169"
    },
    {
      "cell_type": "markdown",
      "source": [
        "The line seems to fit the data quite well, validating our hypothesis that there is a positive correlation between a dog's age and their core temperature.\n",
        "\n",
        "## Interpreting our model\n",
        "\n",
        "Visually, simple linear regression is easy to understand. Let's recap on what the parameters mean though."
      ],
      "metadata": {},
      "id": "9d71dbb2"
    },
    {
      "cell_type": "code",
      "source": [
        "print(\"Intercept:\", model.params[0], \"Slope:\", model.params[1])"
      ],
      "outputs": [],
      "execution_count": null,
      "metadata": {},
      "id": "87ed4b61"
    },
    {
      "cell_type": "markdown",
      "source": [
        "Remember that simple linear regression models are explained by the line intercept and the line slope.\n",
        "\n",
        "Here, our intercept is 38 degrees celcius. This means that when `age` is `0`, the model will predict 38 degrees.\n",
        "\n",
        "Our slope is 0.15 degrees celcius, meaning that for every year of age, the model will predict temperatures 0.15 degrees higher.\n",
        "\n",
        "In the box below, try to change the age to a few different values to see different predictions, and compare these with the line in the graph above. "
      ],
      "metadata": {},
      "id": "6600a43a"
    },
    {
      "cell_type": "code",
      "source": [
        "def estimate_temperature(age):\n",
        "    # Model param[0] is the intercepts and param[1] is the slope\n",
        "    return age * model.params[1] + model.params[0]\n",
        "\n",
        "print(\"Estimate temperature from age\")\n",
        "print(estimate_temperature(age=0))"
      ],
      "outputs": [],
      "execution_count": null,
      "metadata": {},
      "id": "043a8128"
    },
    {
      "cell_type": "markdown",
      "source": [
        "## Summary\n",
        "We covered the following concepts in this exercise:\n",
        "\n",
        "- Quickly visualizing a dataset\n",
        "- Qualitatively assessing a linear relationship\n",
        "- Build a simple linear regression model\n",
        "- Understanding parameters of a simple linear regression model\n"
      ],
      "metadata": {},
      "id": "8d0f92d2"
    }
  ],
  "metadata": {
    "kernelspec": {
      "name": "conda-env-py37_default-py",
      "language": "python",
      "display_name": "py37_default"
    },
    "language_info": {
      "name": "python",
      "version": "3.7.9",
      "mimetype": "text/x-python",
      "codemirror_mode": {
        "name": "ipython",
        "version": 3
      },
      "pygments_lexer": "ipython3",
      "nbconvert_exporter": "python",
      "file_extension": ".py"
    },
    "kernel_info": {
      "name": "conda-env-py37_default-py"
    },
    "nteract": {
      "version": "nteract-front-end@1.0.0"
    }
  },
  "nbformat": 4,
  "nbformat_minor": 5
}