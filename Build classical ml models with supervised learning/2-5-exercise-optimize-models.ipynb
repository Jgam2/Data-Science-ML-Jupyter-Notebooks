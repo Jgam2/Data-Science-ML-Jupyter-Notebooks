{
  "cells": [
    {
      "cell_type": "markdown",
      "source": [
        "# Exercise: Supervised learning by using different cost functions\r\n",
        "\r\n",
        "In this exercise, we'll have a deeper look at how cost functions can change:\r\n",
        "\r\n",
        "* How well models appear to have fit data.\r\n",
        "* The kinds of relationships a model represents.\r\n",
        "\r\n",
        "## Loading the data\r\n",
        "\r\n",
        "Let's start by loading the data. To make this exercise simpler, we'll use only a few datapoints this time."
      ],
      "metadata": {}
    },
    {
      "cell_type": "code",
      "execution_count": 1,
      "source": [
        "import pandas\r\n",
        "!wget https://raw.githubusercontent.com/MicrosoftDocs/mslearn-introduction-to-machine-learning/main/graphing.py\r\n",
        "!wget https://raw.githubusercontent.com/MicrosoftDocs/mslearn-introduction-to-machine-learning/main/microsoft_custom_linear_regressor.py\r\n",
        "!wget https://raw.githubusercontent.com/MicrosoftDocs/mslearn-introduction-to-machine-learning/main/Data/seattleWeather_1948-2017.csv\r\n",
        "from datetime import datetime\r\n",
        "\r\n",
        "# Load a file that contains our weather data\r\n",
        "dataset = pandas.read_csv('seattleWeather_1948-2017.csv', parse_dates=['date'])\r\n",
        "\r\n",
        "# Convert the dates into numbers so we can use them in our models\r\n",
        "# We make a year column that can contain fractions. For example,\r\n",
        "# 1948.5 is halfway through the year 1948\r\n",
        "dataset[\"year\"] = [(d.year + d.timetuple().tm_yday / 365.25) for d in dataset.date]\r\n",
        "\r\n",
        "\r\n",
        "# For the sake of this exercise, let's look at February 1 for the following years:\r\n",
        "desired_dates = [\r\n",
        "    datetime(1950,2,1),\r\n",
        "    datetime(1960,2,1),\r\n",
        "    datetime(1970,2,1),\r\n",
        "    datetime(1980,2,1),\r\n",
        "    datetime(1990,2,1),\r\n",
        "    datetime(2000,2,1),\r\n",
        "    datetime(2010,2,1),\r\n",
        "    datetime(2017,2,1),\r\n",
        "]\r\n",
        "\r\n",
        "dataset = dataset[dataset.date.isin(desired_dates)].copy()\r\n",
        "\r\n",
        "# Print the dataset\r\n",
        "dataset\r\n"
      ],
      "outputs": [
        {
          "output_type": "stream",
          "name": "stderr",
          "text": [
            "'wget' is not recognized as an internal or external command,\n",
            "operable program or batch file.\n",
            "'wget' is not recognized as an internal or external command,\n",
            "operable program or batch file.\n",
            "'wget' is not recognized as an internal or external command,\n",
            "operable program or batch file.\n"
          ]
        },
        {
          "output_type": "execute_result",
          "data": {
            "text/html": [
              "<div>\n",
              "<style scoped>\n",
              "    .dataframe tbody tr th:only-of-type {\n",
              "        vertical-align: middle;\n",
              "    }\n",
              "\n",
              "    .dataframe tbody tr th {\n",
              "        vertical-align: top;\n",
              "    }\n",
              "\n",
              "    .dataframe thead th {\n",
              "        text-align: right;\n",
              "    }\n",
              "</style>\n",
              "<table border=\"1\" class=\"dataframe\">\n",
              "  <thead>\n",
              "    <tr style=\"text-align: right;\">\n",
              "      <th></th>\n",
              "      <th>date</th>\n",
              "      <th>amount_of_precipitation</th>\n",
              "      <th>max_temperature</th>\n",
              "      <th>min_temperature</th>\n",
              "      <th>rain</th>\n",
              "      <th>year</th>\n",
              "    </tr>\n",
              "  </thead>\n",
              "  <tbody>\n",
              "    <tr>\n",
              "      <th>762</th>\n",
              "      <td>1950-02-01</td>\n",
              "      <td>0.00</td>\n",
              "      <td>27</td>\n",
              "      <td>1</td>\n",
              "      <td>False</td>\n",
              "      <td>1950.087611</td>\n",
              "    </tr>\n",
              "    <tr>\n",
              "      <th>4414</th>\n",
              "      <td>1960-02-01</td>\n",
              "      <td>0.15</td>\n",
              "      <td>52</td>\n",
              "      <td>44</td>\n",
              "      <td>True</td>\n",
              "      <td>1960.087611</td>\n",
              "    </tr>\n",
              "    <tr>\n",
              "      <th>8067</th>\n",
              "      <td>1970-02-01</td>\n",
              "      <td>0.00</td>\n",
              "      <td>50</td>\n",
              "      <td>42</td>\n",
              "      <td>False</td>\n",
              "      <td>1970.087611</td>\n",
              "    </tr>\n",
              "    <tr>\n",
              "      <th>11719</th>\n",
              "      <td>1980-02-01</td>\n",
              "      <td>0.37</td>\n",
              "      <td>54</td>\n",
              "      <td>36</td>\n",
              "      <td>True</td>\n",
              "      <td>1980.087611</td>\n",
              "    </tr>\n",
              "    <tr>\n",
              "      <th>15372</th>\n",
              "      <td>1990-02-01</td>\n",
              "      <td>0.08</td>\n",
              "      <td>45</td>\n",
              "      <td>37</td>\n",
              "      <td>True</td>\n",
              "      <td>1990.087611</td>\n",
              "    </tr>\n",
              "    <tr>\n",
              "      <th>19024</th>\n",
              "      <td>2000-02-01</td>\n",
              "      <td>1.34</td>\n",
              "      <td>49</td>\n",
              "      <td>41</td>\n",
              "      <td>True</td>\n",
              "      <td>2000.087611</td>\n",
              "    </tr>\n",
              "    <tr>\n",
              "      <th>22677</th>\n",
              "      <td>2010-02-01</td>\n",
              "      <td>0.08</td>\n",
              "      <td>49</td>\n",
              "      <td>40</td>\n",
              "      <td>True</td>\n",
              "      <td>2010.087611</td>\n",
              "    </tr>\n",
              "    <tr>\n",
              "      <th>25234</th>\n",
              "      <td>2017-02-01</td>\n",
              "      <td>0.00</td>\n",
              "      <td>43</td>\n",
              "      <td>29</td>\n",
              "      <td>False</td>\n",
              "      <td>2017.087611</td>\n",
              "    </tr>\n",
              "  </tbody>\n",
              "</table>\n",
              "</div>"
            ],
            "text/plain": [
              "            date  amount_of_precipitation  max_temperature  min_temperature  \\\n",
              "762   1950-02-01                     0.00               27                1   \n",
              "4414  1960-02-01                     0.15               52               44   \n",
              "8067  1970-02-01                     0.00               50               42   \n",
              "11719 1980-02-01                     0.37               54               36   \n",
              "15372 1990-02-01                     0.08               45               37   \n",
              "19024 2000-02-01                     1.34               49               41   \n",
              "22677 2010-02-01                     0.08               49               40   \n",
              "25234 2017-02-01                     0.00               43               29   \n",
              "\n",
              "        rain         year  \n",
              "762    False  1950.087611  \n",
              "4414    True  1960.087611  \n",
              "8067   False  1970.087611  \n",
              "11719   True  1980.087611  \n",
              "15372   True  1990.087611  \n",
              "19024   True  2000.087611  \n",
              "22677   True  2010.087611  \n",
              "25234  False  2017.087611  "
            ]
          },
          "metadata": {},
          "execution_count": 1
        }
      ],
      "metadata": {}
    },
    {
      "cell_type": "markdown",
      "source": [
        "## Comparing two cost functions\r\n",
        "\r\n",
        "Let's compare two common cost functions: the _sum of squared differences_ (SSD) and the _sum of absolute differences_ (SAD). They both calculate the difference between each predicted value and the expected value. The distinction is simply: \r\n",
        "\r\n",
        "* SSD squares that difference and sums the result.\r\n",
        "* SAD converts differences into absolute differences and then sums them.\r\n",
        "\r\n",
        "To see these cost functions in action, we need to first implement them:"
      ],
      "metadata": {}
    },
    {
      "cell_type": "code",
      "execution_count": null,
      "source": [
        "import numpy\r\n",
        "\r\n",
        "def sum_of_square_differences(estimate, actual):\r\n",
        "    # Note that with NumPy, to square each value we use **\r\n",
        "    return numpy.sum((estimate - actual)**2)\r\n",
        "\r\n",
        "def sum_of_absolute_differences(estimate, actual):\r\n",
        "    return numpy.sum(numpy.abs(estimate - actual))"
      ],
      "outputs": [],
      "metadata": {}
    },
    {
      "cell_type": "markdown",
      "source": [
        "They're very similar. How do they behave? Let's test with some fake model estimates.\n",
        "\n",
        "Let's say that the correct answers are `1` and `3`, but the model estimates `2` and `2`:"
      ],
      "metadata": {}
    },
    {
      "cell_type": "code",
      "execution_count": null,
      "source": [
        "actual_label = numpy.array([1, 3])\r\n",
        "model_estimate = numpy.array([2, 2])\r\n",
        "\r\n",
        "print(\"SSD:\", sum_of_square_differences(model_estimate, actual_label))\r\n",
        "print(\"SAD:\", sum_of_absolute_differences(model_estimate, actual_label))"
      ],
      "outputs": [],
      "metadata": {}
    },
    {
      "cell_type": "markdown",
      "source": [
        "We have an error of `1` for each estimate, and both methods have returned the same error. \r\n",
        "\r\n",
        "What happens if we distribute these errors differently? Let's pretend that we estimated the first value perfectly but were off by `2` for the second value: "
      ],
      "metadata": {}
    },
    {
      "cell_type": "code",
      "execution_count": null,
      "source": [
        "actual_label = numpy.array([1, 3])\r\n",
        "model_estimate = numpy.array([1, 1])\r\n",
        "\r\n",
        "print(\"SSD:\", sum_of_square_differences(model_estimate, actual_label))\r\n",
        "print(\"SAD:\", sum_of_absolute_differences(model_estimate, actual_label))"
      ],
      "outputs": [],
      "metadata": {}
    },
    {
      "cell_type": "markdown",
      "source": [
        "SAD has calculated the same cost as before, because the average error is still the same (`1 + 1 = 0 + 2`). According to SAD, the first and second set of estimates were equally good. \r\n",
        "\r\n",
        "By contrast, SSD has given a higher (worse) cost for the second set of estimates ( $1^2 + 1^2 < 0^2 + 2^2 $ ). When we use SSD, we encourage models to be both accurate and consistent in their accuracy.\r\n",
        "\r\n",
        "\r\n",
        "## Differences in action\r\n",
        "\r\n",
        "Let's compare how our two cost functions affect model fitting.\r\n",
        "\r\n",
        "First, fit a model by using the SSD cost function:"
      ],
      "metadata": {}
    },
    {
      "cell_type": "code",
      "execution_count": null,
      "source": [
        "from microsoft_custom_linear_regressor import MicrosoftCustomLinearRegressor\r\n",
        "import graphing\r\n",
        "\r\n",
        "# Create and fit the model\r\n",
        "# We use a custom object that we've hidden from this notebook, because\r\n",
        "# you don't need to understand its details. This fits a linear model\r\n",
        "# by using a provided cost function\r\n",
        "\r\n",
        "# Fit a model by using sum of square differences\r\n",
        "model = MicrosoftCustomLinearRegressor().fit(X = dataset.year, \r\n",
        "                                             y = dataset.min_temperature, \r\n",
        "                                             cost_function = sum_of_square_differences)\r\n",
        "\r\n",
        "# Graph the model\r\n",
        "graphing.scatter_2D(dataset, \r\n",
        "                    label_x=\"year\", \r\n",
        "                    label_y=\"min_temperature\", \r\n",
        "                    trendline=model.predict)\r\n"
      ],
      "outputs": [],
      "metadata": {}
    },
    {
      "cell_type": "markdown",
      "source": [
        "Our SSD method normally does well, but here it did a poor job. The line is a far distance from the values for many years. Why? Notice that the datapoint at the lower left doesn't seem to follow the trend of the other datapoints. 1950 was a very cold winter in Seattle, and this datapoint is strongly influencing our final model (the blue line). What happens if we change the cost function?\r\n",
        "\r\n",
        "### Sum of absolute differences\r\n",
        "\r\n",
        "Let's repeat what we've just done, but using SAD."
      ],
      "metadata": {}
    },
    {
      "cell_type": "code",
      "execution_count": null,
      "source": [
        "# Fit a model with SSD\r\n",
        "# Fit a model by using sum of square differences\r\n",
        "model = MicrosoftCustomLinearRegressor().fit(X = dataset.year, \r\n",
        "                                             y = dataset.min_temperature, \r\n",
        "                                             cost_function = sum_of_absolute_differences)\r\n",
        "\r\n",
        "# Graph the model\r\n",
        "graphing.scatter_2D(dataset, \r\n",
        "                    label_x=\"year\", \r\n",
        "                    label_y=\"min_temperature\", \r\n",
        "                    trendline=model.predict)\r\n"
      ],
      "outputs": [],
      "metadata": {}
    },
    {
      "cell_type": "markdown",
      "source": [
        "It's clear that this line passes through the majority of points much better than before, at the expense of almost ignoring the measurement taken in 1950. \r\n",
        "\r\n",
        "In our farming scenario, we're interested in how average temperatures are changing over time. We don't have much interest in 1950 specifically, so for us, this is a better result. In other situations, of course, we might consider this result worse.\r\n",
        "\r\n",
        "\r\n",
        "## Summary\r\n",
        "\r\n",
        "In this exercise, you learned about how changing the cost function that's used during fitting can result in different final results. \r\n",
        "\r\n",
        "You also learned how this behavior happens because these cost functions describe the \"best\" way to fit a model. Although from a data analyst's point of view, there can be drawbacks no matter which cost function is chosen."
      ],
      "metadata": {}
    }
  ],
  "metadata": {
    "kernelspec": {
      "name": "python3",
      "display_name": "Python 3.8.8 64-bit ('base': conda)"
    },
    "language_info": {
      "name": "python",
      "version": "3.8.8",
      "mimetype": "text/x-python",
      "codemirror_mode": {
        "name": "ipython",
        "version": 3
      },
      "pygments_lexer": "ipython3",
      "nbconvert_exporter": "python",
      "file_extension": ".py"
    },
    "kernel_info": {
      "name": "conda-env-py37_default-py"
    },
    "nteract": {
      "version": "nteract-front-end@1.0.0"
    },
    "interpreter": {
      "hash": "91d9a014a07bdb2a8732479cdedb26cfced9e43eb23c8170765ca2905a10fdde"
    }
  },
  "nbformat": 4,
  "nbformat_minor": 5
}